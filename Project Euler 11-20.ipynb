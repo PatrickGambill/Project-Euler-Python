{
 "cells": [
  {
   "cell_type": "code",
   "execution_count": 1,
   "metadata": {
    "collapsed": false
   },
   "outputs": [
    {
     "data": {
      "text/plain": [
       "70600674"
      ]
     },
     "execution_count": 1,
     "metadata": {
     },
     "output_type": "execute_result"
    }
   ],
   "source": [
    "#Project Euler Problem 11\n",
    "\n",
    "def MaxGridProd(grid, k):\n",
    "    \n",
    "    '''This finds the maximum product of the k adjacent values in grid. These adjacencies can be horizontal, vertical, or diagonal.'''\n",
    "    \n",
    "    max = 0\n",
    "    rows = len(grid)\n",
    "    columns = len(grid[0])\n",
    "\n",
    "    #I will update the max by checking along each direction.\n",
    "    \n",
    "    #Horizontal\n",
    "    for i in range(rows):\n",
    "        for j in range(columns-k+1):\n",
    "            product = 1\n",
    "            for x in range(k):\n",
    "                product *= grid[i][j+x]\n",
    "            if product > max:\n",
    "                max = product\n",
    "\n",
    "    #Vertical\n",
    "    for j in range(columns):\n",
    "        for i in range(columns-k+1):\n",
    "            product = 1\n",
    "            for x in range(k):\n",
    "                product *= grid[i+x][j]\n",
    "            if product > max:\n",
    "                max = product\n",
    "    #Top left to bottom right diagonals\n",
    "    for i in range(rows):\n",
    "        for j in range(columns):\n",
    "            product = 1\n",
    "            for x in range(k):\n",
    "                if(i+k >= rows or j+k >= columns):\n",
    "                    break\n",
    "                product *= grid[i+x][j+x]\n",
    "            if product > max:\n",
    "                max = product\n",
    "    #Bottom left to top right diagonals\n",
    "    for i in range(rows):\n",
    "        for j in range(columns):\n",
    "            product = 1\n",
    "            for x in range(k):\n",
    "                if(i-k < 0 or j+k >= columns):\n",
    "                    break\n",
    "                product *= grid[i-x][j+x]\n",
    "            if product > max:\n",
    "                max = product\n",
    "    return max\n",
    "\n",
    "#The grid of numbers to test\n",
    "grid = [[8,2,22,97,38,15,0,40,0,75,4,5,7,78,52,12,50,77,91,8],\n",
    "[49,49,99,40,17,81,18,57,60,87,17,40,98,43,69,48,4,56,62,0],\n",
    "[81,49,31,73,55,79,14,29,93,71,40,67,53,88,30,3,49,13,36,65],\n",
    "[52,70,95,23,4,60,11,42,69,24,68,56,1,32,56,71,37,2,36,91],\n",
    "[22,31,16,71,51,67,63,89,41,92,36,54,22,40,40,28,66,33,13,80],\n",
    "[24,47,32,60,99,3,45,2,44,75,33,53,78,36,84,20,35,17,12,50],\n",
    "[32,98,81,28,64,23,67,10,26,38,40,67,59,54,70,66,18,38,64,70],\n",
    "[67,26,20,68,2,62,12,20,95,63,94,39,63,8,40,91,66,49,94,21],\n",
    "[24,55,58,5,66,73,99,26,97,17,78,78,96,83,14,88,34,89,63,72],\n",
    "[21,36,23,9,75,0,76,44,20,45,35,14,0,61,33,97,34,31,33,95],\n",
    "[78,17,53,28,22,75,31,67,15,94,3,80,4,62,16,14,9,53,56,92],\n",
    "[16,39,5,42,96,35,31,47,55,58,88,24,0,17,54,24,36,29,85,57],\n",
    "[86,56,0,48,35,71,89,7,5,44,44,37,44,60,21,58,51,54,17,58],\n",
    "[19,80,81,68,5,94,47,69,28,73,92,13,86,52,17,77,4,89,55,40],\n",
    "[4,52,8,83,97,35,99,16,7,97,57,32,16,26,26,79,33,27,98,66],\n",
    "[88,36,68,87,57,62,20,72,3,46,33,67,46,55,12,32,63,93,53,69],\n",
    "[4,42,16,73,38,25,39,11,24,94,72,18,8,46,29,32,40,62,76,36],\n",
    "[20,69,36,41,72,30,23,88,34,62,99,69,82,67,59,85,74,4,36,16],\n",
    "[20,73,35,29,78,31,90,1,74,31,49,71,48,86,81,16,23,57,5,54],\n",
    "[1,70,54,71,83,51,54,69,16,92,33,48,61,43,52,1,89,19,67,48]]\n",
    "\n",
    "MaxGridProd(grid, 4)"
   ]
  },
  {
   "cell_type": "code",
   "execution_count": 4,
   "metadata": {
    "collapsed": false,
    "scrolled": true
   },
   "outputs": [
    {
     "data": {
      "text/plain": [
       "76576500"
      ]
     },
     "execution_count": 4,
     "metadata": {
     },
     "output_type": "execute_result"
    }
   ],
   "source": [
    "#Project Euler Problem 12\n",
    "\n",
    "def TriNumDivisors(x):\n",
    "    \n",
    "    '''This finds the first triangle number to have at least x divisors'''\n",
    "    \n",
    "    triNum=0\n",
    "    triIndex = 1\n",
    "    \n",
    "    while 1:\n",
    "    \n",
    "        #create the triangle numbers\n",
    "        triNum += triIndex\n",
    "        triIndex += 1\n",
    "\n",
    "        primeFactors = {}\n",
    "        divNum = triNum\n",
    "        #i is the prime to check, and count is how often it appears\n",
    "        i=2\n",
    "        count = 1\n",
    "        #This while loop counts each prime factor\n",
    "        while divNum > 1:\n",
    "            if divNum%i == 0:\n",
    "                divNum /= i\n",
    "                primeFactors[i] = count\n",
    "                count += 1\n",
    "            else:\n",
    "                i += 1\n",
    "                count = 1\n",
    "        numFactors = 1\n",
    "        for prime in primeFactors:\n",
    "            numFactors *= primeFactors[prime] + 1\n",
    "        if numFactors >= x:\n",
    "            return(triNum)\n",
    "\n",
    "\n",
    "TriNumDivisors(500)"
   ]
  },
  {
   "cell_type": "code",
   "execution_count": 11,
   "metadata": {
    "collapsed": false
   },
   "outputs": [
    {
     "data": {
      "text/plain": [
       "5537376230"
      ]
     },
     "execution_count": 11,
     "metadata": {
     },
     "output_type": "execute_result"
    }
   ],
   "source": [
    "#Project Euler Problem 13\n",
    "\n",
    "def FirstTenSum(nums,x):\n",
    "    '''Return the first x digits of the sum of the numbers in num'''\n",
    "    sum = 0\n",
    "    \n",
    "    #Compute the sum\n",
    "    for num in nums:\n",
    "        sum += num\n",
    "    #Return only the first 10 digits\n",
    "    return int(str(sum)[0:x])\n",
    "\n",
    "nums = [37107287533902102798797998220837590246510135740250,\n",
    "46376937677490009712648124896970078050417018260538,\n",
    "74324986199524741059474233309513058123726617309629,\n",
    "91942213363574161572522430563301811072406154908250,\n",
    "23067588207539346171171980310421047513778063246676,\n",
    "89261670696623633820136378418383684178734361726757,\n",
    "28112879812849979408065481931592621691275889832738,\n",
    "44274228917432520321923589422876796487670272189318,\n",
    "47451445736001306439091167216856844588711603153276,\n",
    "70386486105843025439939619828917593665686757934951,\n",
    "62176457141856560629502157223196586755079324193331,\n",
    "64906352462741904929101432445813822663347944758178,\n",
    "92575867718337217661963751590579239728245598838407,\n",
    "58203565325359399008402633568948830189458628227828,\n",
    "80181199384826282014278194139940567587151170094390,\n",
    "35398664372827112653829987240784473053190104293586,\n",
    "86515506006295864861532075273371959191420517255829,\n",
    "71693888707715466499115593487603532921714970056938,\n",
    "54370070576826684624621495650076471787294438377604,\n",
    "53282654108756828443191190634694037855217779295145,\n",
    "36123272525000296071075082563815656710885258350721,\n",
    "45876576172410976447339110607218265236877223636045,\n",
    "17423706905851860660448207621209813287860733969412,\n",
    "81142660418086830619328460811191061556940512689692,\n",
    "51934325451728388641918047049293215058642563049483,\n",
    "62467221648435076201727918039944693004732956340691,\n",
    "15732444386908125794514089057706229429197107928209,\n",
    "55037687525678773091862540744969844508330393682126,\n",
    "18336384825330154686196124348767681297534375946515,\n",
    "80386287592878490201521685554828717201219257766954,\n",
    "78182833757993103614740356856449095527097864797581,\n",
    "16726320100436897842553539920931837441497806860984,\n",
    "48403098129077791799088218795327364475675590848030,\n",
    "87086987551392711854517078544161852424320693150332,\n",
    "59959406895756536782107074926966537676326235447210,\n",
    "69793950679652694742597709739166693763042633987085,\n",
    "41052684708299085211399427365734116182760315001271,\n",
    "65378607361501080857009149939512557028198746004375,\n",
    "35829035317434717326932123578154982629742552737307,\n",
    "94953759765105305946966067683156574377167401875275,\n",
    "88902802571733229619176668713819931811048770190271,\n",
    "25267680276078003013678680992525463401061632866526,\n",
    "36270218540497705585629946580636237993140746255962,\n",
    "24074486908231174977792365466257246923322810917141,\n",
    "91430288197103288597806669760892938638285025333403,\n",
    "34413065578016127815921815005561868836468420090470,\n",
    "23053081172816430487623791969842487255036638784583,\n",
    "11487696932154902810424020138335124462181441773470,\n",
    "63783299490636259666498587618221225225512486764533,\n",
    "67720186971698544312419572409913959008952310058822,\n",
    "95548255300263520781532296796249481641953868218774,\n",
    "76085327132285723110424803456124867697064507995236,\n",
    "37774242535411291684276865538926205024910326572967,\n",
    "23701913275725675285653248258265463092207058596522,\n",
    "29798860272258331913126375147341994889534765745501,\n",
    "18495701454879288984856827726077713721403798879715,\n",
    "38298203783031473527721580348144513491373226651381,\n",
    "34829543829199918180278916522431027392251122869539,\n",
    "40957953066405232632538044100059654939159879593635,\n",
    "29746152185502371307642255121183693803580388584903,\n",
    "41698116222072977186158236678424689157993532961922,\n",
    "62467957194401269043877107275048102390895523597457,\n",
    "23189706772547915061505504953922979530901129967519,\n",
    "86188088225875314529584099251203829009407770775672,\n",
    "11306739708304724483816533873502340845647058077308,\n",
    "82959174767140363198008187129011875491310547126581,\n",
    "97623331044818386269515456334926366572897563400500,\n",
    "42846280183517070527831839425882145521227251250327,\n",
    "55121603546981200581762165212827652751691296897789,\n",
    "32238195734329339946437501907836945765883352399886,\n",
    "75506164965184775180738168837861091527357929701337,\n",
    "62177842752192623401942399639168044983993173312731,\n",
    "32924185707147349566916674687634660915035914677504,\n",
    "99518671430235219628894890102423325116913619626622,\n",
    "73267460800591547471830798392868535206946944540724,\n",
    "76841822524674417161514036427982273348055556214818,\n",
    "97142617910342598647204516893989422179826088076852,\n",
    "87783646182799346313767754307809363333018982642090,\n",
    "10848802521674670883215120185883543223812876952786,\n",
    "71329612474782464538636993009049310363619763878039,\n",
    "62184073572399794223406235393808339651327408011116,\n",
    "66627891981488087797941876876144230030984490851411,\n",
    "60661826293682836764744779239180335110989069790714,\n",
    "85786944089552990653640447425576083659976645795096,\n",
    "66024396409905389607120198219976047599490197230297,\n",
    "64913982680032973156037120041377903785566085089252,\n",
    "16730939319872750275468906903707539413042652315011,\n",
    "94809377245048795150954100921645863754710598436791,\n",
    "78639167021187492431995700641917969777599028300699,\n",
    "15368713711936614952811305876380278410754449733078,\n",
    "40789923115535562561142322423255033685442488917353,\n",
    "44889911501440648020369068063960672322193204149535,\n",
    "41503128880339536053299340368006977710650566631954,\n",
    "81234880673210146739058568557934581403627822703280,\n",
    "82616570773948327592232845941706525094512325230608,\n",
    "22918802058777319719839450180888072429661980811197,\n",
    "77158542502016545090413245809786882778948721859617,\n",
    "72107838435069186155435662884062257473692284509516,\n",
    "20849603980134001723930671666823555245252804609722,\n",
    "53503534226472524250874054075591789781264330331690]\n",
    "\n",
    "FirstTenSum(nums,10)"
   ]
  },
  {
   "cell_type": "code",
   "execution_count": 4,
   "metadata": {
    "collapsed": false,
    "scrolled": true
   },
   "outputs": [
    {
     "data": {
      "text/plain": [
       "(837799, 524)"
      ]
     },
     "execution_count": 4,
     "metadata": {
     },
     "output_type": "execute_result"
    }
   ],
   "source": [
    "#Project Euler Problem 14\n",
    "\n",
    "def LongestCollatzSequence(n):\n",
    "    '''This function will return a tuple with the number under n with the longest Collatz Sequence followed by it's length.'''\n",
    "    \n",
    "    longestChainLength = 0\n",
    "    longestStart = 1\n",
    "    #This dictionary will store all of the lengths of the Collatz sequences\n",
    "    chainLengths = {}\n",
    "\n",
    "    #This will calculare all the lengths\n",
    "    for i in range(1,n):\n",
    "        col = i\n",
    "        length = 0\n",
    "        while not col == 1:\n",
    "            #If col becomes a number we have already tested, we will add the length from the dictionary\n",
    "            if col < i:\n",
    "                length += chainLengths[col]\n",
    "                col = 1\n",
    "            elif col%2 == 0:\n",
    "                col /= 2\n",
    "                length += 1\n",
    "            else:\n",
    "                col = 3*col+1\n",
    "                length += 1\n",
    "        chainLengths[i]=length\n",
    "        \n",
    "        if length > longestChainLength:\n",
    "            longestChainLength = length\n",
    "            longestStart = i\n",
    "    return (longestStart,longestChainLength)\n",
    "        \n",
    "n=1000000\n",
    "\n",
    "LongestCollatzSequence(n)"
   ]
  },
  {
   "cell_type": "code",
   "execution_count": 10,
   "metadata": {
    "collapsed": false
   },
   "outputs": [
    {
     "data": {
      "text/plain": [
       "137846528820.0"
      ]
     },
     "execution_count": 10,
     "metadata": {
     },
     "output_type": "execute_result"
    }
   ],
   "source": [
    "#Project Euler Problem 15\n",
    "\n",
    "def NumLatticePaths(n,m):\n",
    "    '''This calculates the number of lattice paths on a n x m grid'''\n",
    "    import numpy as np\n",
    "    return (np.math.factorial(n+m))/(np.math.factorial(n)*np.math.factorial(m))\n",
    "\n",
    "\n",
    "NumLatticePaths(20,20)"
   ]
  },
  {
   "cell_type": "code",
   "execution_count": 11,
   "metadata": {
    "collapsed": false
   },
   "outputs": [
    {
     "data": {
      "text/plain": [
       "1366"
      ]
     },
     "execution_count": 11,
     "metadata": {
     },
     "output_type": "execute_result"
    }
   ],
   "source": [
    "#Project Euler Problem 16\n",
    "\n",
    "def DigitalSum(n):\n",
    "    '''This function returns the digital sum of n'''\n",
    "    digSum = 0\n",
    "\n",
    "    while n>0:\n",
    "        digSum += n%10\n",
    "        n -= n%10\n",
    "        n //= 10\n",
    "    return(digSum)\n",
    "\n",
    "DigitalSum(2**1000)"
   ]
  },
  {
   "cell_type": "code",
   "execution_count": 12,
   "metadata": {
    "collapsed": false,
    "scrolled": true
   },
   "outputs": [
    {
     "name": "stdout",
     "output_type": "stream",
     "text": [
      "21124\n"
     ]
    }
   ],
   "source": [
    "#Project Euler Problem 17\n",
    "\n",
    "#This is the upper bound\n",
    "n = 1000\n",
    "\n",
    "\n",
    "#Now, we can make a loop over the numbers\n",
    "\n",
    "def count(i):\n",
    "    '''This counts the number of letters in a given number'''\n",
    "    numLetters = 0\n",
    "    #Check the single digit numbers\n",
    "    if i%10 == 1 and not i%100 == 11:\n",
    "        numLetters += 3\n",
    "    elif i%10 == 2 and not i%100 == 12:\n",
    "        numLetters += 3\n",
    "    elif i%10 == 3 and not i%100 == 13:\n",
    "        numLetters += 5\n",
    "    elif i%10 == 4 and not i%100 == 14:\n",
    "        numLetters += 4\n",
    "    elif i%10 == 5 and not i%100 == 15:\n",
    "        numLetters += 4\n",
    "    elif i%10 == 6 and not i%100 == 16:\n",
    "        numLetters += 3\n",
    "    elif i%10 == 7 and not i%100 == 17:\n",
    "        numLetters += 5\n",
    "    elif i%10 == 8 and not i%100 == 18:\n",
    "        numLetters += 5\n",
    "    elif i%10 == 9 and not i%100 == 19:\n",
    "        numLetters += 4\n",
    "    #Check the 10s\n",
    "    elif i%100 == 10:\n",
    "        numLetters += 3\n",
    "    elif i%100 == 11:\n",
    "        numLetters += 6\n",
    "    elif i%100 == 12:\n",
    "        numLetters += 6\n",
    "    elif i%100 == 13:\n",
    "        numLetters += 8\n",
    "    elif i%100 == 14:\n",
    "        numLetters += 8\n",
    "    elif i%100 == 15:\n",
    "        numLetters += 7\n",
    "    elif i%100 == 16:\n",
    "        numLetters += 7\n",
    "    elif i%100 == 17:\n",
    "        numLetters += 9\n",
    "    elif i%100 == 18:\n",
    "        numLetters += 8\n",
    "    elif i%100 == 19:\n",
    "        numLetters += 8\n",
    "    i //= 10\n",
    "    #Check the 10's place \n",
    "    if i%10 == 2:\n",
    "        numLetters += 6\n",
    "    elif i%10 == 3:\n",
    "        numLetters += 6\n",
    "    elif i%10 == 4:\n",
    "        numLetters += 5\n",
    "    elif i%10 == 5:\n",
    "        numLetters += 5\n",
    "    elif i%10 == 6:\n",
    "        numLetters += 5\n",
    "    elif i%10 == 7:\n",
    "        numLetters += 7\n",
    "    elif i%10 == 8:\n",
    "        numLetters += 6\n",
    "    elif i%10 == 9:\n",
    "        numLetters += 6\n",
    "    i //= 10\n",
    "    #Check the 100's place\n",
    "    if i%10 == 1 and not i%100 == 11:\n",
    "        numLetters += 13\n",
    "    elif i%10 == 2 and not i%100 == 12:\n",
    "        numLetters += 13\n",
    "    elif i%10 == 3 and not i%100 == 13:\n",
    "        numLetters += 15\n",
    "    elif i%10 == 4 and not i%100 == 14:\n",
    "        numLetters += 14\n",
    "    elif i%10 == 5 and not i%100 == 15:\n",
    "        numLetters += 14\n",
    "    elif i%10 == 6 and not i%100 == 16:\n",
    "        numLetters += 13\n",
    "    elif i%10 == 7 and not i%100 == 17:\n",
    "        numLetters += 15\n",
    "    elif i%10 == 8 and not i%100 == 18:\n",
    "        numLetters += 15\n",
    "    elif i%10 == 9 and not i%100 == 19:\n",
    "        numLetters += 14\n",
    "    i //= 10\n",
    "    if i%10 == 1:\n",
    "        numLetters += 11\n",
    "    return numLetters\n",
    "\n",
    "sum = 0\n",
    "for i in range (1,n+1):\n",
    "    sum +=count(i)\n",
    "    if i%100 == 0 and not i == 1000:\n",
    "        sum -= 3\n",
    "print(sum)"
   ]
  },
  {
   "cell_type": "code",
   "execution_count": 13,
   "metadata": {
    "collapsed": false,
    "scrolled": true
   },
   "outputs": [
    {
     "data": {
      "text/plain": [
       "1074"
      ]
     },
     "execution_count": 13,
     "metadata": {
     },
     "output_type": "execute_result"
    }
   ],
   "source": [
    "#Project Euler Problem 18\n",
    "\n",
    "#This is the data\n",
    "\n",
    "def MaxTriSum(triangle):\n",
    "    '''This will find the longest path from the top of the triangle to the bottom. This is not optimized. A graph theoretical approach will be more efficient, but harder to implement. '''\n",
    "    \n",
    "    rows = len(triangle)\n",
    "    maxSum = 0\n",
    "    #This is the number of possible solutions\n",
    "    possibleSol = 2**(rows-1)\n",
    "\n",
    "    #I am looping over the total number of possible solutions\n",
    "    for i in range(possibleSol):\n",
    "        sum = 0\n",
    "        index = 0\n",
    "        #Any possible path can be stored as a binary string\n",
    "        binString = bin(i)[2:].zfill(rows)\n",
    "        \n",
    "        #This finds the sum for a given path\n",
    "        for j in range(0,rows):\n",
    "            if int(binString[j]) == 1:\n",
    "                index += 1\n",
    "            sum += triangle[j][index]\n",
    "\n",
    "        if sum > maxSum:\n",
    "            maxSum = sum\n",
    "    return(maxSum)\n",
    "\n",
    "triangle =[[75],\n",
    "[95, 64],\n",
    "[17, 47, 82],\n",
    "[18, 35, 87, 10],\n",
    "[20, 4, 82, 47, 65],\n",
    "[19, 1, 23, 75, 3, 34],\n",
    "[88, 2, 77, 73, 7, 63, 67],\n",
    "[99, 65, 4, 28, 6, 16, 70, 92],\n",
    "[41, 41, 26, 56, 83, 40, 80, 70, 33],\n",
    "[41, 48, 72, 33, 47, 32, 37, 16, 94, 29],\n",
    "[53, 71, 44, 65, 25, 43, 91, 52, 97, 51, 14],\n",
    "[70, 11, 33, 28, 77, 73, 17, 78, 39, 68, 17, 57],\n",
    "[91, 71, 52, 38, 17, 14, 91, 43, 58, 50, 27, 29, 48],\n",
    "[63, 66, 4, 68, 89, 53, 67, 30, 73, 16, 69, 87, 40, 31],\n",
    "[4, 62, 98, 27, 23, 9, 70, 98, 73, 93, 38, 53, 60, 4, 23]]\n",
    "\n",
    "MaxTriSum(triangle)"
   ]
  },
  {
   "cell_type": "code",
   "execution_count": 21,
   "metadata": {
    "collapsed": false
   },
   "outputs": [
    {
     "data": {
      "text/plain": [
       "171"
      ]
     },
     "execution_count": 21,
     "metadata": {
     },
     "output_type": "execute_result"
    }
   ],
   "source": [
    "#Project Euler Problem 19\n",
    "\n",
    "def numDay(start,end,x):\n",
    "    '''This will return the number of times a given day of the week starts a month from start year to end year. x is the Day of the week. Monday = 0, Tuesday = 1, and so on.'''\n",
    "    import datetime\n",
    "    numDays = 0\n",
    "\n",
    "    #This loops over every month and year for the first of each month\n",
    "    for year in range (start, end):\n",
    "        for month in range (1,13):\n",
    "            day = datetime.date(year,month,1)\n",
    "            #If a month starts with day, it is added to the count\n",
    "            if day.weekday() == x:\n",
    "                numDays += 1\n",
    "            \n",
    "    return numDays\n",
    "\n",
    "numDay(1901,2001,6)"
   ]
  },
  {
   "cell_type": "code",
   "execution_count": 69,
   "metadata": {
    "collapsed": false
   },
   "outputs": [
    {
     "name": "stdout",
     "output_type": "stream",
     "text": [
      "648\n"
     ]
    }
   ],
   "source": [
    "#Project Euler Problem 20\n",
    "\n",
    "import numpy as np\n",
    "\n",
    "#The number we are taking the factorial of\n",
    "n = 100\n",
    "fact = np.math.factorial(n)\n",
    "\n",
    "#Now for the digital sum\n",
    "sum = 0\n",
    "while fact > 0:\n",
    "    sum += fact%10\n",
    "    fact //= 10\n",
    "print(sum)"
   ]
  },
  {
   "cell_type": "code",
   "execution_count": 0,
   "metadata": {
    "collapsed": false
   },
   "outputs": [
   ],
   "source": [
   ]
  }
 ],
 "metadata": {
  "kernelspec": {
   "display_name": "Python 3 (system-wide)",
   "language": "python",
   "metadata": {
    "cocalc": {
     "description": "Python 3 programming language",
     "priority": 100,
     "url": "https://www.python.org/"
    }
   },
   "name": "python3",
   "resource_dir": "/ext/jupyter/kernels/python3"
  },
  "language_info": {
   "codemirror_mode": {
    "name": "ipython",
    "version": 3
   },
   "file_extension": ".py",
   "mimetype": "text/x-python",
   "name": "python",
   "nbconvert_exporter": "python",
   "pygments_lexer": "ipython3",
   "version": "3.8.10"
  }
 },
 "nbformat": 4,
 "nbformat_minor": 4
}