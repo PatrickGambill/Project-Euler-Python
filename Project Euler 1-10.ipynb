{
 "cells": [
  {
   "cell_type": "code",
   "execution_count": 1,
   "metadata": {
    "collapsed": false
   },
   "outputs": [
    {
     "data": {
      "text/plain": [
       "233168"
      ]
     },
     "execution_count": 1,
     "metadata": {
     },
     "output_type": "execute_result"
    }
   ],
   "source": [
    "#Project Euler Problem 1\n",
    "\n",
    "def DivSum(upperBound):\n",
    "    '''This function sums all positive integers less than upperBound that are divisible by 3 or 5.'''\n",
    "\n",
    "    sum=0\n",
    "    \n",
    "    for x in range (upperBound):\n",
    "        if (x%3 == 0 or x%5 == 0):\n",
    "            sum += x\n",
    "           \n",
    "    return(sum)\n",
    "\n",
    "DivSum(1000)"
   ]
  },
  {
   "cell_type": "code",
   "execution_count": 2,
   "metadata": {
    "collapsed": false
   },
   "outputs": [
    {
     "data": {
      "text/plain": [
       "4613732"
      ]
     },
     "execution_count": 2,
     "metadata": {
     },
     "output_type": "execute_result"
    }
   ],
   "source": [
    "#Project Euler Problem 2\n",
    "\n",
    "def EvenFibSum(upperBound):\n",
    "    '''This function takes the sum of the even Fibbonacci numbers below upperBound.'''\n",
    "    previousTerm = 0\n",
    "    currentTerm = 1\n",
    "    sum = 0\n",
    "\n",
    "    while currentTerm < upperBound:\n",
    "        if (currentTerm%2 == 0):\n",
    "            sum += currentTerm\n",
    "\n",
    "        x=previousTerm + currentTerm\n",
    "        previousTerm = currentTerm\n",
    "        currentTerm = x\n",
    "    return(sum)\n",
    "\n",
    "EvenFibSum(4*10**6)"
   ]
  },
  {
   "cell_type": "code",
   "execution_count": 3,
   "metadata": {
    "collapsed": false
   },
   "outputs": [
    {
     "data": {
      "text/plain": [
       "6857"
      ]
     },
     "execution_count": 3,
     "metadata": {
     },
     "output_type": "execute_result"
    }
   ],
   "source": [
    "#Project Euler Problem 3\n",
    "\n",
    "\n",
    "def LargestPrimeFactor(num):\n",
    "    '''This function takes in a number and returns the largest prime factor'''\n",
    "    \n",
    "    primes = []\n",
    "    p = 2\n",
    "\n",
    "    #This loop finds all the prime factors of num\n",
    "    while num >= p:\n",
    "        if (num%p == 0):\n",
    "            num = num/p\n",
    "            primes.append(p)\n",
    "        else:\n",
    "            p += 1\n",
    "            \n",
    "    return(primes[-1])\n",
    "\n",
    "LargestPrimeFactor(600851475143)"
   ]
  },
  {
   "cell_type": "code",
   "execution_count": 4,
   "metadata": {
    "collapsed": false
   },
   "outputs": [
    {
     "data": {
      "text/plain": [
       "906609"
      ]
     },
     "execution_count": 4,
     "metadata": {
     },
     "output_type": "execute_result"
    }
   ],
   "source": [
    "#project Euler Problem 4\n",
    "\n",
    "def LargestPalindromeProd(upperBound):\n",
    "    '''This function determines the largest palindrome number made from a product of two numbers of size less than upperBound.'''\n",
    "    x = 1\n",
    "    y = 1\n",
    "    largestPalindrome = 0\n",
    "\n",
    "    for x in range (upperBound):\n",
    "        for y in range (x,upperBound):\n",
    "            product = x*y\n",
    "            palindrome = 0\n",
    "            \n",
    "            #For a given product that does not end in 0, this computes the palindrome\n",
    "            if(product%10 != 0):\n",
    "                while (product>0):\n",
    "                    digit = product%10\n",
    "                    palindrome = 10*palindrome + digit\n",
    "                    product //=10\n",
    "                    \n",
    "                #This updates largestPalindrome, if the product is a palindrome larger than largestPalindrome\n",
    "                if(x*y == palindrome and x*y > largestPalindrome):\n",
    "                    largestPalindrome = x*y\n",
    "                    \n",
    "    return(largestPalindrome)\n",
    "\n",
    "LargestPalindromeProd(1000)"
   ]
  },
  {
   "cell_type": "code",
   "execution_count": 7,
   "metadata": {
    "collapsed": false
   },
   "outputs": [
    {
     "data": {
      "text/plain": [
       "232792560"
      ]
     },
     "execution_count": 7,
     "metadata": {
     },
     "output_type": "execute_result"
    }
   ],
   "source": [
    "#project Euler Problem 5\n",
    "\n",
    "\n",
    "def SmallestMultiple(n):\n",
    "    \n",
    "    '''This will find the smallest number that is a multiple of all positive integers less than or equal to n.'''\n",
    "    factors = [[2,1]]\n",
    "    product = 1\n",
    "\n",
    "    #this loop is creating the prime factorization of our target number. i is considering each number <= n we must consider\n",
    "    for i in range (3,n+1):\n",
    "        num = i\n",
    "        \n",
    "        #j is comparing num to the existing factors, to determine if num is prime\n",
    "        for j in factors:\n",
    "            count = 0\n",
    "            while(num>1):\n",
    "                if (num%j[0] == 0):\n",
    "                    num /= j[0]\n",
    "                    count += 1\n",
    "                else:\n",
    "                    break\n",
    "                    \n",
    "            #if num has a prime factor with higher multiplicity, this new multiplicity is added to factors\n",
    "            if (j[1] < count):\n",
    "                j[1] = count\n",
    "                \n",
    "        #add primes to the list of factors\n",
    "        if (num != 1):\n",
    "            factors.append([i,1])\n",
    "\n",
    "    #This is computing the final product\n",
    "    for factor in factors:\n",
    "        product *= factor[0]**factor[1]\n",
    "        \n",
    "    return(product)\n",
    "\n",
    "SmallestMultiple(20)"
   ]
  },
  {
   "cell_type": "code",
   "execution_count": 8,
   "metadata": {
    "collapsed": false
   },
   "outputs": [
    {
     "data": {
      "text/plain": [
       "25164150"
      ]
     },
     "execution_count": 8,
     "metadata": {
     },
     "output_type": "execute_result"
    }
   ],
   "source": [
    "#project Euler Problem 6\n",
    "\n",
    "def SumSquareDif(n):\n",
    "    '''This computes the difference between the sum of squares and the square of sums of all the positive integers less than or equal to n.'''\n",
    "    \n",
    "    sumOfSquares = 0\n",
    "    sum = 0\n",
    "\n",
    "    #compute sum of squares\n",
    "    for i in range(n+1):\n",
    "        sumOfSquares += i**2\n",
    "        \n",
    "    #compute square of sums\n",
    "    for i in range(n+1):\n",
    "        sum += i\n",
    "    squareOfSums = sum**2\n",
    "\n",
    "    difference = squareOfSums - sumOfSquares\n",
    "    return(difference)\n",
    "\n",
    "SumSquareDif(100)"
   ]
  },
  {
   "cell_type": "code",
   "execution_count": 10,
   "metadata": {
    "collapsed": false
   },
   "outputs": [
    {
     "name": "stdout",
     "output_type": "stream",
     "text": [
      "104743\n"
     ]
    }
   ],
   "source": [
    "#project Euler Problem 7\n",
    "\n",
    "#initialize the list of primes\n",
    "\n",
    "def Primes(n):\n",
    "    '''This returns the first n primes. *Not yet optimized'''\n",
    "    \n",
    "    primes = [2]\n",
    "    x=3\n",
    "\n",
    "#This loop finds primes. If our number is divisible by another on the list, it gets skipped. If it is prime, it gets appended\n",
    "    while (len(primes)<n):\n",
    "        counter = 0\n",
    "        for prime in primes:\n",
    "            if (x%prime == 0):\n",
    "                break\n",
    "            else:\n",
    "                counter+=1\n",
    "        if (counter == len(primes)):\n",
    "            primes.append(x)\n",
    "        x+= 2\n",
    "        \n",
    "    return primes\n",
    "\n",
    "print(Primes(10001)[-1])"
   ]
  },
  {
   "cell_type": "code",
   "execution_count": 12,
   "metadata": {
    "collapsed": false
   },
   "outputs": [
    {
     "data": {
      "text/plain": [
       "23514624000"
      ]
     },
     "execution_count": 12,
     "metadata": {
     },
     "output_type": "execute_result"
    }
   ],
   "source": [
    "#Project Euler Problem 8\n",
    "\n",
    "\n",
    "def AdjProd(num,numAdj):\n",
    "    '''This finds the largest product of the numAdj digits in num.'''\n",
    "\n",
    "    maxProd = 0\n",
    "\n",
    "    while (num>0):\n",
    "        prod = 1\n",
    "        dig = num%10**numAdj\n",
    "        while (dig>0):\n",
    "            prod *= dig%10\n",
    "            dig //= 10\n",
    "        num //= 10\n",
    "        if (prod>maxProd):\n",
    "            maxProd = prod\n",
    "    \n",
    "    return(maxProd)\n",
    "\n",
    "AdjProd(7316717653133062491922511967442657474235534919493496983520312774506326239578318016984801869478851843858615607891129494954595017379583319528532088055111254069874715852386305071569329096329522744304355766896648950445244523161731856403098711121722383113622298934233803081353362766142828064444866452387493035890729629049156044077239071381051585930796086670172427121883998797908792274921901699720888093776657273330010533678812202354218097512545405947522435258490771167055601360483958644670632441572215539753697817977846174064955149290862569321978468622482839722413756570560574902614079729686524145351004748216637048440319989000889524345065854122758866688116427171479924442928230863465674813919123162824586178664583591245665294765456828489128831426076900422421902267105562632111110937054421750694165896040807198403850962455444362981230987879927244284909188845801561660979191338754992005240636899125607176060588611646710940507754100225698315520005593572972571636269561882670428252483600823257530420752963450,13)"
   ]
  },
  {
   "cell_type": "code",
   "execution_count": 16,
   "metadata": {
    "collapsed": false
   },
   "outputs": [
    {
     "data": {
      "text/plain": [
       "31875000.0"
      ]
     },
     "execution_count": 16,
     "metadata": {
     },
     "output_type": "execute_result"
    }
   ],
   "source": [
    "#Project Euler Problem 9\n",
    "\n",
    "import math\n",
    "\n",
    "def PythTripProd(sum):\n",
    "    '''Given a sum of the numbers in a Pythagorean Triplet, this function finds the product of the Pythagorean Triplet. If no such triple exists, it        will return 0.'''\n",
    "\n",
    "    pythTrips = []\n",
    "    triplet = (0,0,0)\n",
    "\n",
    "#This loop finds all the pythagorean triples,such that a and b are less than sum.\n",
    "    for i in range(1,sum):\n",
    "        for j in range(1,sum):\n",
    "            if (math.sqrt(i**2+j**2)%1 == 0):\n",
    "                pythTrips.append((i,j,math.sqrt(i**2+j**2)))\n",
    "            \n",
    "#This loop checks the triplets to see if they add to sum\n",
    "    for trip in pythTrips:\n",
    "        if (trip[0]+trip[1]+trip[2] == sum):\n",
    "            triplet = trip\n",
    "        \n",
    "#This takes the product of our triplet\n",
    "    prod = triplet[0]*triplet[1]*triplet[2]\n",
    "    return prod\n",
    "\n",
    "PythTripProd(1000)"
   ]
  },
  {
   "cell_type": "code",
   "execution_count": 51,
   "metadata": {
    "collapsed": false
   },
   "outputs": [
    {
     "name": "stdout",
     "output_type": "stream",
     "text": [
      "142913828922\n"
     ]
    }
   ],
   "source": [
    "#project Euler Problem 10\n",
    "\n",
    "import numpy as np\n",
    "\n",
    "def Primes(n):\n",
    "    '''This function returns all the primes below n as an array, using the Sieve of Eratosthenes.'''\n",
    "#Create an array of 1s\n",
    "    A=np.ones((n,), dtype = bool)\n",
    "#This tells us the values we search through. We are using the Sieve Eratosthenes\n",
    "    for i in range(2, int(n**0.5+1)):\n",
    "        if (A[i]):\n",
    "            A[i*i::i] = False\n",
    "    \n",
    "    primes = np.delete(np.nonzero(A),[0,1],1)\n",
    "    return primes\n",
    "\n",
    "print(np.sum(Primes(2000000)))"
   ]
  },
  {
   "cell_type": "code",
   "execution_count": 0,
   "metadata": {
    "collapsed": false
   },
   "outputs": [
   ],
   "source": [
   ]
  },
  {
   "cell_type": "code",
   "execution_count": 0,
   "metadata": {
    "collapsed": false
   },
   "outputs": [
   ],
   "source": [
   ]
  }
 ],
 "metadata": {
  "kernelspec": {
   "display_name": "Python 3 (system-wide)",
   "language": "python",
   "metadata": {
    "cocalc": {
     "description": "Python 3 programming language",
     "priority": 100,
     "url": "https://www.python.org/"
    }
   },
   "name": "python3",
   "resource_dir": "/ext/jupyter/kernels/python3"
  },
  "language_info": {
   "codemirror_mode": {
    "name": "ipython",
    "version": 3
   },
   "file_extension": ".py",
   "mimetype": "text/x-python",
   "name": "python",
   "nbconvert_exporter": "python",
   "pygments_lexer": "ipython3",
   "version": "3.8.10"
  }
 },
 "nbformat": 4,
 "nbformat_minor": 4
}